{
 "cells": [
  {
   "cell_type": "code",
   "execution_count": 25,
   "id": "ff1c773e-682c-4942-833f-b8e891b0d942",
   "metadata": {},
   "outputs": [],
   "source": [
    "import pandas as pd\n",
    "from tensorflow.keras.models import load_model\n",
    "from sklearn.metrics import classification_report, accuracy_score, ConfusionMatrixDisplay, confusion_matrix \n",
    "from sklearn.utils import class_weight\n",
    "import pickle\n",
    "import numpy as np"
   ]
  },
  {
   "cell_type": "code",
   "execution_count": null,
   "id": "3007afea-47a5-4e62-8de3-fb6fc1a4b1e9",
   "metadata": {},
   "outputs": [],
   "source": [
    "test_data = pd.read_csv(\"../Data/Test.csv\", index_col=0)"
   ]
  },
  {
   "cell_type": "code",
   "execution_count": 18,
   "id": "e1e3b69b-cfaa-4f41-8776-d7b038e0531a",
   "metadata": {},
   "outputs": [
    {
     "data": {
      "text/plain": [
       "(423, 17)"
      ]
     },
     "execution_count": 18,
     "metadata": {},
     "output_type": "execute_result"
    }
   ],
   "source": [
    "test_data.shape"
   ]
  },
  {
   "cell_type": "code",
   "execution_count": 19,
   "id": "a248b1c1",
   "metadata": {},
   "outputs": [
    {
     "data": {
      "text/html": [
       "<div>\n",
       "<style scoped>\n",
       "    .dataframe tbody tr th:only-of-type {\n",
       "        vertical-align: middle;\n",
       "    }\n",
       "\n",
       "    .dataframe tbody tr th {\n",
       "        vertical-align: top;\n",
       "    }\n",
       "\n",
       "    .dataframe thead th {\n",
       "        text-align: right;\n",
       "    }\n",
       "</style>\n",
       "<table border=\"1\" class=\"dataframe\">\n",
       "  <thead>\n",
       "    <tr style=\"text-align: right;\">\n",
       "      <th></th>\n",
       "      <th>Gender</th>\n",
       "      <th>Age</th>\n",
       "      <th>Height</th>\n",
       "      <th>Weight</th>\n",
       "      <th>family_history_with_overweight</th>\n",
       "      <th>FAVC</th>\n",
       "      <th>FCVC</th>\n",
       "      <th>NCP</th>\n",
       "      <th>CAEC</th>\n",
       "      <th>SMOKE</th>\n",
       "      <th>CH2O</th>\n",
       "      <th>SCC</th>\n",
       "      <th>FAF</th>\n",
       "      <th>TUE</th>\n",
       "      <th>CALC</th>\n",
       "      <th>MTRANS</th>\n",
       "      <th>NObeyesdad</th>\n",
       "    </tr>\n",
       "  </thead>\n",
       "  <tbody>\n",
       "    <tr>\n",
       "      <th>0</th>\n",
       "      <td>-1.02096</td>\n",
       "      <td>-2.156046</td>\n",
       "      <td>0.374437</td>\n",
       "      <td>0.378025</td>\n",
       "      <td>0.145534</td>\n",
       "      <td>0.211876</td>\n",
       "      <td>0.646890</td>\n",
       "      <td>-0.120963</td>\n",
       "      <td>-0.826583</td>\n",
       "      <td>0.709958</td>\n",
       "      <td>-1.423875</td>\n",
       "      <td>1.077507</td>\n",
       "      <td>1.333283</td>\n",
       "      <td>-1.354616</td>\n",
       "      <td>1.172584</td>\n",
       "      <td>0.569502</td>\n",
       "      <td>0</td>\n",
       "    </tr>\n",
       "    <tr>\n",
       "      <th>1</th>\n",
       "      <td>0.97947</td>\n",
       "      <td>-2.156046</td>\n",
       "      <td>0.374437</td>\n",
       "      <td>0.378025</td>\n",
       "      <td>0.145534</td>\n",
       "      <td>0.211876</td>\n",
       "      <td>-1.513639</td>\n",
       "      <td>-0.120963</td>\n",
       "      <td>-0.826583</td>\n",
       "      <td>1.029013</td>\n",
       "      <td>-1.024580</td>\n",
       "      <td>-0.792395</td>\n",
       "      <td>0.396407</td>\n",
       "      <td>-1.666221</td>\n",
       "      <td>-0.007113</td>\n",
       "      <td>0.569502</td>\n",
       "      <td>1</td>\n",
       "    </tr>\n",
       "    <tr>\n",
       "      <th>2</th>\n",
       "      <td>0.97947</td>\n",
       "      <td>0.463812</td>\n",
       "      <td>0.374437</td>\n",
       "      <td>0.378025</td>\n",
       "      <td>0.145534</td>\n",
       "      <td>0.211876</td>\n",
       "      <td>0.646890</td>\n",
       "      <td>-0.120963</td>\n",
       "      <td>-0.050907</td>\n",
       "      <td>-0.034505</td>\n",
       "      <td>-0.227524</td>\n",
       "      <td>-0.792395</td>\n",
       "      <td>0.396407</td>\n",
       "      <td>1.417034</td>\n",
       "      <td>-1.186810</td>\n",
       "      <td>-0.555801</td>\n",
       "      <td>6</td>\n",
       "    </tr>\n",
       "    <tr>\n",
       "      <th>3</th>\n",
       "      <td>-1.02096</td>\n",
       "      <td>0.463812</td>\n",
       "      <td>0.374437</td>\n",
       "      <td>0.378025</td>\n",
       "      <td>0.145534</td>\n",
       "      <td>0.211876</td>\n",
       "      <td>0.646890</td>\n",
       "      <td>-0.120963</td>\n",
       "      <td>-0.516313</td>\n",
       "      <td>1.135365</td>\n",
       "      <td>1.998165</td>\n",
       "      <td>1.077507</td>\n",
       "      <td>0.396407</td>\n",
       "      <td>1.023427</td>\n",
       "      <td>-0.620555</td>\n",
       "      <td>0.129671</td>\n",
       "      <td>4</td>\n",
       "    </tr>\n",
       "    <tr>\n",
       "      <th>4</th>\n",
       "      <td>0.97947</td>\n",
       "      <td>0.463812</td>\n",
       "      <td>0.374437</td>\n",
       "      <td>0.378025</td>\n",
       "      <td>0.145534</td>\n",
       "      <td>0.211876</td>\n",
       "      <td>-1.513639</td>\n",
       "      <td>-0.120963</td>\n",
       "      <td>1.345309</td>\n",
       "      <td>-0.034505</td>\n",
       "      <td>0.635952</td>\n",
       "      <td>0.479138</td>\n",
       "      <td>-0.347961</td>\n",
       "      <td>-1.666221</td>\n",
       "      <td>1.160787</td>\n",
       "      <td>-1.090236</td>\n",
       "      <td>3</td>\n",
       "    </tr>\n",
       "  </tbody>\n",
       "</table>\n",
       "</div>"
      ],
      "text/plain": [
       "    Gender       Age    Height    Weight  family_history_with_overweight  \\\n",
       "0 -1.02096 -2.156046  0.374437  0.378025                        0.145534   \n",
       "1  0.97947 -2.156046  0.374437  0.378025                        0.145534   \n",
       "2  0.97947  0.463812  0.374437  0.378025                        0.145534   \n",
       "3 -1.02096  0.463812  0.374437  0.378025                        0.145534   \n",
       "4  0.97947  0.463812  0.374437  0.378025                        0.145534   \n",
       "\n",
       "       FAVC      FCVC       NCP      CAEC     SMOKE      CH2O       SCC  \\\n",
       "0  0.211876  0.646890 -0.120963 -0.826583  0.709958 -1.423875  1.077507   \n",
       "1  0.211876 -1.513639 -0.120963 -0.826583  1.029013 -1.024580 -0.792395   \n",
       "2  0.211876  0.646890 -0.120963 -0.050907 -0.034505 -0.227524 -0.792395   \n",
       "3  0.211876  0.646890 -0.120963 -0.516313  1.135365  1.998165  1.077507   \n",
       "4  0.211876 -1.513639 -0.120963  1.345309 -0.034505  0.635952  0.479138   \n",
       "\n",
       "        FAF       TUE      CALC    MTRANS  NObeyesdad  \n",
       "0  1.333283 -1.354616  1.172584  0.569502           0  \n",
       "1  0.396407 -1.666221 -0.007113  0.569502           1  \n",
       "2  0.396407  1.417034 -1.186810 -0.555801           6  \n",
       "3  0.396407  1.023427 -0.620555  0.129671           4  \n",
       "4 -0.347961 -1.666221  1.160787 -1.090236           3  "
      ]
     },
     "execution_count": 19,
     "metadata": {},
     "output_type": "execute_result"
    }
   ],
   "source": [
    "test_data.head()"
   ]
  },
  {
   "cell_type": "code",
   "execution_count": 20,
   "id": "ec214420",
   "metadata": {},
   "outputs": [],
   "source": [
    "X_test_data = test_data.copy()\n",
    "y_test_data = X_test_data.pop(\"NObeyesdad\")"
   ]
  },
  {
   "cell_type": "code",
   "execution_count": null,
   "id": "21427f9a",
   "metadata": {},
   "outputs": [],
   "source": [
    "class_weights = pickle.load(open('../tools/class_weights.sav', 'rb'))\n",
    "\n",
    "model = load_model(\"../Model/obes_predictor.keras\")"
   ]
  },
  {
   "cell_type": "code",
   "execution_count": 30,
   "id": "3bca4393",
   "metadata": {},
   "outputs": [
    {
     "name": "stdout",
     "output_type": "stream",
     "text": [
      "\u001b[1m14/14\u001b[0m \u001b[32m━━━━━━━━━━━━━━━━━━━━\u001b[0m\u001b[37m\u001b[0m \u001b[1m0s\u001b[0m 3ms/step - accuracy: 0.9337 - loss: 0.2256 \n",
      "Loss: 0.23456908762454987\n",
      "Accuracy: 0.9267139434814453\n"
     ]
    }
   ],
   "source": [
    "loss, accuracy = model.evaluate(X_test_data, y_test_data)\n",
    "print(\"Loss: \" + str(loss))\n",
    "print(\"Accuracy: \" + str(accuracy))"
   ]
  },
  {
   "cell_type": "code",
   "execution_count": 22,
   "id": "ede11b1c-bb6c-4f89-98e3-cf07358b7028",
   "metadata": {},
   "outputs": [
    {
     "name": "stdout",
     "output_type": "stream",
     "text": [
      "\u001b[1m14/14\u001b[0m \u001b[32m━━━━━━━━━━━━━━━━━━━━\u001b[0m\u001b[37m\u001b[0m \u001b[1m0s\u001b[0m 3ms/step \n"
     ]
    }
   ],
   "source": [
    "y_pred = model.predict(X_test_data)\n",
    "classif = classification_report(np.argmax(y_pred, axis=1), y_test_data, output_dict=True)"
   ]
  },
  {
   "cell_type": "code",
   "execution_count": 23,
   "id": "e111436c-b31c-4f59-8f63-92b61286dc35",
   "metadata": {},
   "outputs": [
    {
     "data": {
      "text/html": [
       "<div>\n",
       "<style scoped>\n",
       "    .dataframe tbody tr th:only-of-type {\n",
       "        vertical-align: middle;\n",
       "    }\n",
       "\n",
       "    .dataframe tbody tr th {\n",
       "        vertical-align: top;\n",
       "    }\n",
       "\n",
       "    .dataframe thead th {\n",
       "        text-align: right;\n",
       "    }\n",
       "</style>\n",
       "<table border=\"1\" class=\"dataframe\">\n",
       "  <thead>\n",
       "    <tr style=\"text-align: right;\">\n",
       "      <th></th>\n",
       "      <th>precision</th>\n",
       "      <th>recall</th>\n",
       "      <th>f1-score</th>\n",
       "      <th>support</th>\n",
       "    </tr>\n",
       "  </thead>\n",
       "  <tbody>\n",
       "    <tr>\n",
       "      <th>0</th>\n",
       "      <td>0.944444</td>\n",
       "      <td>0.980769</td>\n",
       "      <td>0.962264</td>\n",
       "      <td>52.000000</td>\n",
       "    </tr>\n",
       "    <tr>\n",
       "      <th>1</th>\n",
       "      <td>0.810345</td>\n",
       "      <td>0.824561</td>\n",
       "      <td>0.817391</td>\n",
       "      <td>57.000000</td>\n",
       "    </tr>\n",
       "    <tr>\n",
       "      <th>2</th>\n",
       "      <td>0.985714</td>\n",
       "      <td>0.945205</td>\n",
       "      <td>0.965035</td>\n",
       "      <td>73.000000</td>\n",
       "    </tr>\n",
       "    <tr>\n",
       "      <th>3</th>\n",
       "      <td>0.966667</td>\n",
       "      <td>0.966667</td>\n",
       "      <td>0.966667</td>\n",
       "      <td>60.000000</td>\n",
       "    </tr>\n",
       "    <tr>\n",
       "      <th>4</th>\n",
       "      <td>0.984615</td>\n",
       "      <td>1.000000</td>\n",
       "      <td>0.992248</td>\n",
       "      <td>64.000000</td>\n",
       "    </tr>\n",
       "    <tr>\n",
       "      <th>5</th>\n",
       "      <td>0.879310</td>\n",
       "      <td>0.796875</td>\n",
       "      <td>0.836066</td>\n",
       "      <td>64.000000</td>\n",
       "    </tr>\n",
       "    <tr>\n",
       "      <th>6</th>\n",
       "      <td>0.896552</td>\n",
       "      <td>0.981132</td>\n",
       "      <td>0.936937</td>\n",
       "      <td>53.000000</td>\n",
       "    </tr>\n",
       "    <tr>\n",
       "      <th>accuracy</th>\n",
       "      <td>0.926714</td>\n",
       "      <td>0.926714</td>\n",
       "      <td>0.926714</td>\n",
       "      <td>0.926714</td>\n",
       "    </tr>\n",
       "    <tr>\n",
       "      <th>macro avg</th>\n",
       "      <td>0.923950</td>\n",
       "      <td>0.927887</td>\n",
       "      <td>0.925230</td>\n",
       "      <td>423.000000</td>\n",
       "    </tr>\n",
       "    <tr>\n",
       "      <th>weighted avg</th>\n",
       "      <td>0.926871</td>\n",
       "      <td>0.926714</td>\n",
       "      <td>0.926114</td>\n",
       "      <td>423.000000</td>\n",
       "    </tr>\n",
       "  </tbody>\n",
       "</table>\n",
       "</div>"
      ],
      "text/plain": [
       "              precision    recall  f1-score     support\n",
       "0              0.944444  0.980769  0.962264   52.000000\n",
       "1              0.810345  0.824561  0.817391   57.000000\n",
       "2              0.985714  0.945205  0.965035   73.000000\n",
       "3              0.966667  0.966667  0.966667   60.000000\n",
       "4              0.984615  1.000000  0.992248   64.000000\n",
       "5              0.879310  0.796875  0.836066   64.000000\n",
       "6              0.896552  0.981132  0.936937   53.000000\n",
       "accuracy       0.926714  0.926714  0.926714    0.926714\n",
       "macro avg      0.923950  0.927887  0.925230  423.000000\n",
       "weighted avg   0.926871  0.926714  0.926114  423.000000"
      ]
     },
     "execution_count": 23,
     "metadata": {},
     "output_type": "execute_result"
    }
   ],
   "source": [
    "pd.DataFrame(classif).T"
   ]
  },
  {
   "cell_type": "code",
   "execution_count": 28,
   "id": "d49032ef-f77e-4d86-ac86-748edcb2d30c",
   "metadata": {},
   "outputs": [
    {
     "data": {
      "image/png": "[encoded data removed]",
      "text/plain": [
       "<Figure size 640x480 with 2 Axes>"
      ]
     },
     "metadata": {},
     "output_type": "display_data"
    }
   ],
   "source": [
    "labels = pickle.load(open('../tools/labels.sav', 'rb'))\n",
    "y_pred_inv = labels.inverse_transform(np.argmax(y_pred,axis=1))\n",
    "y_test_data_inv = labels.inverse_transform(y_test_data)\n",
    "\n",
    "conf_disp = ConfusionMatrixDisplay.from_predictions(y_pred_inv , y_test_data_inv, xticks_rotation='vertical', labels=labels.classes_)"
   ]
  },
  {
   "cell_type": "code",
   "execution_count": null,
   "id": "d4951bfd",
   "metadata": {},
   "outputs": [],
   "source": []
  }
 ],
 "metadata": {
  "kernelspec": {
   "display_name": "base",
   "language": "python",
   "name": "python3"
  },
  "language_info": {
   "codemirror_mode": {
    "name": "ipython",
    "version": 3
   },
   "file_extension": ".py",
   "mimetype": "text/x-python",
   "name": "python",
   "nbconvert_exporter": "python",
   "pygments_lexer": "ipython3",
   "version": "3.12.7"
  }
 },
 "nbformat": 4,
 "nbformat_minor": 5
}
